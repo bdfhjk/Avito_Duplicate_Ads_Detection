{
 "cells": [
  {
   "cell_type": "code",
   "execution_count": 32,
   "metadata": {
    "collapsed": false
   },
   "outputs": [],
   "source": [
    "import pandas as pd\n",
    "import numpy as np\n",
    "\n",
    "typesinput = {\n",
    "    'itemID': np.dtype(int),\n",
    "    'categoryID': np.dtype(int),\n",
    "    'title': np.dtype(str),\n",
    "    'description': np.dtype(str),\n",
    "    'images_array': np.dtype(str),\n",
    "    'attrsJSON': np.dtype(str),\n",
    "    'price': np.dtype(float),\n",
    "    'locationID': np.dtype(int),\n",
    "    'metroID': np.dtype(float),\n",
    "    'lat': np.dtype(float),\n",
    "    'lon': np.dtype(float),\n",
    "}\n",
    "\n",
    "types1 = {\n",
    "        'itemID_1': np.dtype(int),\n",
    "        'itemID_2': np.dtype(int),\n",
    "        'isDuplicate': np.dtype(int),\n",
    "        'generationMethod': np.dtype(int),\n",
    "}\n"
   ]
  },
  {
   "cell_type": "code",
   "execution_count": 33,
   "metadata": {
    "collapsed": false
   },
   "outputs": [],
   "source": [
    "%matplotlib inline"
   ]
  },
  {
   "cell_type": "markdown",
   "metadata": {},
   "source": [
    "Złożenia\n",
    "\n",
    "* stratified początek (reszta początku porzucona)\n",
    "* stratified koniec (reszta końca porzucona)\n",
    "* stratified losowy\n",
    "* stratified środek (reszta środka porzucona)\n",
    "\n",
    "zbiór walidacyjny to 20 procent wszystkich danych"
   ]
  },
  {
   "cell_type": "code",
   "execution_count": 42,
   "metadata": {
    "collapsed": true
   },
   "outputs": [],
   "source": [
    "pairs = pd.read_csv(\"input/ItemPairs_train.csv\", dtype=types1)"
   ]
  },
  {
   "cell_type": "code",
   "execution_count": 39,
   "metadata": {
    "collapsed": true
   },
   "outputs": [],
   "source": [
    "from sklearn.cross_validation import StratifiedKFold"
   ]
  },
  {
   "cell_type": "code",
   "execution_count": 84,
   "metadata": {
    "collapsed": true
   },
   "outputs": [],
   "source": [
    "skfold = StratifiedKFold(pairs.isDuplicate, n_folds=4, shuffle=True, random_state=83760324L)\n",
    "fold_random = skfold.test_folds == 0\n",
    "skfold = StratifiedKFold(pairs.isDuplicate, n_folds=4, shuffle=False, random_state=83760324L)\n",
    "fold_start = skfold.test_folds == 0\n",
    "fold_end = skfold.test_folds == 3\n",
    "skfold = StratifiedKFold(pairs.isDuplicate, n_folds=8, shuffle=False, random_state=83760324L)\n",
    "fold_middle = (skfold.test_folds == 3) | (skfold.test_folds == 4)"
   ]
  },
  {
   "cell_type": "markdown",
   "metadata": {},
   "source": [
    "Każde złożenie ma 316070 duplikatów (na 747850 wszystkich obserwacji) w zbiorze testowym"
   ]
  },
  {
   "cell_type": "code",
   "execution_count": 89,
   "metadata": {
    "collapsed": false
   },
   "outputs": [
    {
     "data": {
      "text/plain": [
       "[<matplotlib.lines.Line2D at 0x7f6312e4bbd0>]"
      ]
     },
     "execution_count": 89,
     "metadata": {},
     "output_type": "execute_result"
    },
    {
     "data": {
      "image/png": "[encoded data removed]",
      "text/plain": [
       "<matplotlib.figure.Figure at 0x7f63206f4c10>"
      ]
     },
     "metadata": {},
     "output_type": "display_data"
    }
   ],
   "source": [
    "plt.plot(fold_start)\n",
    "plt.plot(fold_middle)\n",
    "plt.plot(fold_end)"
   ]
  },
  {
   "cell_type": "code",
   "execution_count": 87,
   "metadata": {
    "collapsed": false
   },
   "outputs": [],
   "source": [
    "# Przykład użycia\n",
    "# test = pairs[fold_start]\n",
    "# train = pairs[~fold_start]"
   ]
  },
  {
   "cell_type": "code",
   "execution_count": 90,
   "metadata": {
    "collapsed": true
   },
   "outputs": [],
   "source": [
    "np.savetxt(\"folds/fold_random.txt\", fold_random, fmt=\"%5i\")\n",
    "np.savetxt(\"folds/fold_start.txt\", fold_start, fmt=\"%5i\")\n",
    "np.savetxt(\"folds/fold_middle.txt\", fold_middle, fmt=\"%5i\")\n",
    "np.savetxt(\"folds/fold_end.txt\", fold_end, fmt=\"%5i\")"
   ]
  },
  {
   "cell_type": "code",
   "execution_count": null,
   "metadata": {
    "collapsed": true
   },
   "outputs": [],
   "source": []
  }
 ],
 "metadata": {
  "kernelspec": {
   "display_name": "Python 2",
   "language": "python",
   "name": "python2"
  },
  "language_info": {
   "codemirror_mode": {
    "name": "ipython",
    "version": 2
   },
   "file_extension": ".py",
   "mimetype": "text/x-python",
   "name": "python",
   "nbconvert_exporter": "python",
   "pygments_lexer": "ipython2",
   "version": "2.7.6"
  }
 },
 "nbformat": 4,
 "nbformat_minor": 0
}
