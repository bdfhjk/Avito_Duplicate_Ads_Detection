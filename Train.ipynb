{
 "metadata": {
  "name": "",
  "signature": "sha256:8d8f168dc88840bf06dc46250beb884d82353a6df038c07e78606a77c3672c57"
 },
 "nbformat": 3,
 "nbformat_minor": 0,
 "worksheets": [
  {
   "cells": [
    {
     "cell_type": "code",
     "collapsed": false,
     "input": [
      "import datetime\n",
      "import pandas as pd\n",
      "import numpy as np\n",
      "from sklearn.cross_validation import train_test_split\n",
      "import xgboost as xgb\n",
      "import random\n",
      "from operator import itemgetter\n",
      "import zipfile\n",
      "from sklearn.metrics import roc_auc_score\n",
      "import time\n",
      "random.seed(2016)\n",
      "\n",
      "\n",
      "def create_feature_map(features):\n",
      "    outfile = open('xgb.fmap', 'w')\n",
      "    for i, feat in enumerate(features):\n",
      "        outfile.write('{0}\\t{1}\\tq\\n'.format(i, feat))\n",
      "    outfile.close()\n",
      "\n",
      "\n",
      "def get_importance(gbm, features):\n",
      "    create_feature_map(features)\n",
      "    importance = gbm.get_fscore(fmap='xgb.fmap')\n",
      "    importance = sorted(importance.items(), key=itemgetter(1), reverse=True)\n",
      "    return importance\n",
      "\n",
      "\n",
      "def intersect(a, b):\n",
      "    return list(set(a) & set(b))\n",
      "\n",
      "\n",
      "def print_features_importance(imp):\n",
      "    for i in range(len(imp)):\n",
      "        print(\"# \" + str(imp[i][1]))\n",
      "        print('output.remove(\\'' + imp[i][0] + '\\')')\n",
      "\n",
      "\n",
      "def run_default_test(train, test, features, target, random_state=0):\n",
      "    eta = 0.1\n",
      "    max_depth = 5\n",
      "    subsample = 0.8\n",
      "    colsample_bytree = 0.8\n",
      "    start_time = time.time()\n",
      "\n",
      "    print('XGBoost params. ETA: {}, MAX_DEPTH: {}, SUBSAMPLE: {}, COLSAMPLE_BY_TREE: {}'.format(eta, max_depth, subsample, colsample_bytree))\n",
      "    params = {\n",
      "        \"objective\": \"binary:logistic\",\n",
      "        \"booster\" : \"gbtree\",\n",
      "        \"eval_metric\": \"auc\",\n",
      "        \"eta\": eta,\n",
      "        \"max_depth\": max_depth,\n",
      "        \"subsample\": subsample,\n",
      "        \"colsample_bytree\": colsample_bytree,\n",
      "        \"silent\": 1,\n",
      "        \"seed\": random_state\n",
      "    }\n",
      "    num_boost_round = 260\n",
      "    early_stopping_rounds = 20\n",
      "    test_size = 0.1\n",
      "\n",
      "    X_train, X_valid = train_test_split(train, test_size=test_size, random_state=random_state)\n",
      "    y_train = X_train[target]\n",
      "    y_valid = X_valid[target]\n",
      "    dtrain = xgb.DMatrix(X_train[features], y_train)\n",
      "    dvalid = xgb.DMatrix(X_valid[features], y_valid)\n",
      "\n",
      "    watchlist = [(dtrain, 'train'), (dvalid, 'eval')]\n",
      "    gbm = xgb.train(params, dtrain, num_boost_round, evals=watchlist, early_stopping_rounds=early_stopping_rounds, verbose_eval=True)\n",
      "\n",
      "    print(\"Validating...\")\n",
      "    check = gbm.predict(xgb.DMatrix(X_valid[features]), ntree_limit=gbm.best_ntree_limit)\n",
      "    score = roc_auc_score(X_valid[target].values, check)\n",
      "    print('Check error value: {:.6f}'.format(score))\n",
      "\n",
      "    imp = get_importance(gbm, features)\n",
      "    print('Importance array: ', imp)\n",
      "\n",
      "    print(\"Predict test set...\")\n",
      "    test_prediction = gbm.predict(xgb.DMatrix(test[features]), ntree_limit=gbm.best_ntree_limit)\n",
      "\n",
      "    print('Training time: {} minutes'.format(round((time.time() - start_time)/60, 2)))\n",
      "    return test_prediction.tolist(), score\n",
      "\n",
      "\n",
      "def create_submission(score, test, prediction):\n",
      "    # Make Submission\n",
      "    now = datetime.datetime.now()\n",
      "    sub_file = 'submission_' + str(score) + '_' + str(now.strftime(\"%Y-%m-%d-%H-%M\")) + '.csv'\n",
      "    print('Writing submission: ', sub_file)\n",
      "    f = open(sub_file, 'w')\n",
      "    f.write('id,probability\\n')\n",
      "    total = 0\n",
      "    for id in test['id']:\n",
      "        str1 = str(id) + ',' + str(prediction[total])\n",
      "        str1 += '\\n'\n",
      "        total += 1\n",
      "        f.write(str1)\n",
      "    f.close()\n",
      "\n",
      "    # print('Creating zip-file...')\n",
      "    # z = zipfile.ZipFile(sub_file + \".zip\", \"w\", zipfile.ZIP_DEFLATED)\n",
      "    # z.write(sub_file)\n",
      "    # z.close()\n",
      "\n",
      "\n",
      "def get_features(train, test):\n",
      "    trainval = list(train.columns.values)\n",
      "    testval = list(test.columns.values)\n",
      "    output = intersect(trainval, testval)\n",
      "    output.remove('itemID_1')\n",
      "    output.remove('itemID_2')\n",
      "    return output\n",
      "\n",
      "\n",
      "def prep_train():\n",
      "    testing = 0\n",
      "    start_time = time.time()\n",
      "\n",
      "    types1 = {\n",
      "        'itemID_1': np.dtype(int),\n",
      "        'itemID_2': np.dtype(int),\n",
      "        'isDuplicate': np.dtype(int),\n",
      "        'generationMethod': np.dtype(int),\n",
      "    }\n",
      "\n",
      "    types2 = {\n",
      "        'itemID': np.dtype(int),\n",
      "        'categoryID': np.dtype(int),\n",
      "        'title': np.dtype(str),\n",
      "        'description': np.dtype(str),\n",
      "        'images_array': np.dtype(str),\n",
      "        'attrsJSON': np.dtype(str),\n",
      "        'price': np.dtype(float),\n",
      "        'locationID': np.dtype(int),\n",
      "        'metroID': np.dtype(float),\n",
      "        'lat': np.dtype(float),\n",
      "        'lon': np.dtype(float),\n",
      "    }\n",
      "\n",
      "    print(\"Load ItemPairs_train.csv\")\n",
      "    pairs = pd.read_csv(\"input/ItemPairs_train.csv\", dtype=types1)\n",
      "    # Add 'id' column for easy merge\n",
      "    print(\"Load ItemInfo_train.csv\")\n",
      "    items = pd.read_csv(\"input/ItemInfo_train.csv\", dtype=types2)\n",
      "    items.fillna(-1, inplace=True)\n",
      "    location = pd.read_csv(\"input/Location.csv\")\n",
      "    category = pd.read_csv(\"input/Category.csv\")\n",
      "\n",
      "    train = pairs\n",
      "    train = train.drop(['generationMethod'], axis=1)\n",
      "\n",
      "    print('Add text features...')\n",
      "    train['len_title'] = items['title'].str.len()\n",
      "    train['len_description'] = items['description'].str.len()\n",
      "    train['len_attrsJSON'] = items['attrsJSON'].str.len()\n",
      "\n",
      "    print('Merge item 1...')\n",
      "    item1 = items[['itemID', 'categoryID', 'price', 'locationID', 'metroID', 'lat', 'lon']]\n",
      "    item1 = pd.merge(item1, category, how='left', on='categoryID', left_index=True)\n",
      "    item1 = pd.merge(item1, location, how='left', on='locationID', left_index=True)\n",
      "\n",
      "    item1 = item1.rename(\n",
      "        columns={\n",
      "            'itemID': 'itemID_1',\n",
      "            'categoryID': 'categoryID_1',\n",
      "            'parentCategoryID': 'parentCategoryID_1',\n",
      "            'price': 'price_1',\n",
      "            'locationID': 'locationID_1',\n",
      "            'regionID': 'regionID_1',\n",
      "            'metroID': 'metroID_1',\n",
      "            'lat': 'lat_1',\n",
      "            'lon': 'lon_1'\n",
      "        }\n",
      "    )\n",
      "\n",
      "    # Add item 1 data\n",
      "    train = pd.merge(train, item1, how='left', on='itemID_1', left_index=True)\n",
      "\n",
      "    print('Merge item 2...')\n",
      "    item2 = items[['itemID', 'categoryID', 'price', 'locationID', 'metroID', 'lat', 'lon']]\n",
      "    item2 = pd.merge(item2, category, how='left', on='categoryID', left_index=True)\n",
      "    item2 = pd.merge(item2, location, how='left', on='locationID', left_index=True)\n",
      "\n",
      "    item2 = item2.rename(\n",
      "        columns={\n",
      "            'itemID': 'itemID_2',\n",
      "            'categoryID': 'categoryID_2',\n",
      "            'parentCategoryID': 'parentCategoryID_2',\n",
      "            'price': 'price_2',\n",
      "            'locationID': 'locationID_2',\n",
      "            'regionID': 'regionID_2',\n",
      "            'metroID': 'metroID_2',\n",
      "            'lat': 'lat_2',\n",
      "            'lon': 'lon_2'\n",
      "        }\n",
      "    )\n",
      "\n",
      "    # Add item 2 data\n",
      "    train = pd.merge(train, item2, how='left', on='itemID_2', left_index=True)\n",
      "\n",
      "    # Create same arrays\n",
      "    print('Create same arrays')\n",
      "    train['price_same'] = np.equal(train['price_1'], train['price_2']).astype(np.int32)\n",
      "    train['locationID_same'] = np.equal(train['locationID_1'], train['locationID_2']).astype(np.int32)\n",
      "    train['categoryID_same'] = np.equal(train['categoryID_1'], train['categoryID_2']).astype(np.int32)\n",
      "    train['regionID_same'] = np.equal(train['regionID_1'], train['regionID_2']).astype(np.int32)\n",
      "    train['metroID_same'] = np.equal(train['metroID_1'], train['metroID_2']).astype(np.int32)\n",
      "    train['lat_same'] = np.equal(train['lat_1'], train['lat_2']).astype(np.int32)\n",
      "    train['lon_same'] = np.equal(train['lon_1'], train['lon_2']).astype(np.int32)\n",
      "\n",
      "    # print(train.describe())\n",
      "    print('Create train data time: {} seconds'.format(round(time.time() - start_time, 2)))\n",
      "    return train\n",
      "\n",
      "\n",
      "def prep_test():\n",
      "    start_time = time.time()\n",
      "\n",
      "    types1 = {\n",
      "        'itemID_1': np.dtype(int),\n",
      "        'itemID_2': np.dtype(int),\n",
      "        'id': np.dtype(int),\n",
      "    }\n",
      "\n",
      "    types2 = {\n",
      "        'itemID': np.dtype(int),\n",
      "        'categoryID': np.dtype(int),\n",
      "        'title': np.dtype(str),\n",
      "        'description': np.dtype(str),\n",
      "        'images_array': np.dtype(str),\n",
      "        'attrsJSON': np.dtype(str),\n",
      "        'price': np.dtype(float),\n",
      "        'locationID': np.dtype(int),\n",
      "        'metroID': np.dtype(float),\n",
      "        'lat': np.dtype(float),\n",
      "        'lon': np.dtype(float),\n",
      "    }\n",
      "\n",
      "    print(\"Load ItemPairs_test.csv\")\n",
      "    pairs = pd.read_csv(\"input/ItemPairs_test.csv\", dtype=types1)\n",
      "    print(\"Load ItemInfo_testcsv\")\n",
      "    items = pd.read_csv(\"input/ItemInfo_test.csv\", dtype=types2)\n",
      "    items.fillna(-1, inplace=True)\n",
      "    location = pd.read_csv(\"input/Location.csv\")\n",
      "    category = pd.read_csv(\"input/Category.csv\")\n",
      "\n",
      "    train = pairs\n",
      "\n",
      "    print('Add text features...')\n",
      "    train['len_title'] = items['title'].str.len()\n",
      "    train['len_description'] = items['description'].str.len()\n",
      "    train['len_attrsJSON'] = items['attrsJSON'].str.len()\n",
      "\n",
      "    print('Merge item 1...')\n",
      "    item1 = items[['itemID', 'categoryID', 'price', 'locationID', 'metroID', 'lat', 'lon']]\n",
      "    item1 = pd.merge(item1, category, how='left', on='categoryID', left_index=True)\n",
      "    item1 = pd.merge(item1, location, how='left', on='locationID', left_index=True)\n",
      "\n",
      "    item1 = item1.rename(\n",
      "        columns={\n",
      "            'itemID': 'itemID_1',\n",
      "            'categoryID': 'categoryID_1',\n",
      "            'parentCategoryID': 'parentCategoryID_1',\n",
      "            'price': 'price_1',\n",
      "            'locationID': 'locationID_1',\n",
      "            'regionID': 'regionID_1',\n",
      "            'metroID': 'metroID_1',\n",
      "            'lat': 'lat_1',\n",
      "            'lon': 'lon_1'\n",
      "        }\n",
      "    )\n",
      "\n",
      "    # Add item 1 data\n",
      "    train = pd.merge(train, item1, how='left', on='itemID_1', left_index=True)\n",
      "\n",
      "    print('Merge item 2...')\n",
      "    item2 = items[['itemID', 'categoryID', 'price', 'locationID', 'metroID', 'lat', 'lon']]\n",
      "    item2 = pd.merge(item2, category, how='left', on='categoryID', left_index=True)\n",
      "    item2 = pd.merge(item2, location, how='left', on='locationID', left_index=True)\n",
      "\n",
      "    item2 = item2.rename(\n",
      "        columns={\n",
      "            'itemID': 'itemID_2',\n",
      "            'categoryID': 'categoryID_2',\n",
      "            'parentCategoryID': 'parentCategoryID_2',\n",
      "            'price': 'price_2',\n",
      "            'locationID': 'locationID_2',\n",
      "            'regionID': 'regionID_2',\n",
      "            'metroID': 'metroID_2',\n",
      "            'lat': 'lat_2',\n",
      "            'lon': 'lon_2'\n",
      "        }\n",
      "    )\n",
      "\n",
      "    # Add item 2 data\n",
      "    train = pd.merge(train, item2, how='left', on='itemID_2', left_index=True)\n",
      "\n",
      "    # Create same arrays\n",
      "    print('Create same arrays')\n",
      "    train['price_same'] = np.equal(train['price_1'], train['price_2']).astype(np.int32)\n",
      "    train['locationID_same'] = np.equal(train['locationID_1'], train['locationID_2']).astype(np.int32)\n",
      "    train['categoryID_same'] = np.equal(train['categoryID_1'], train['categoryID_2']).astype(np.int32)\n",
      "    train['regionID_same'] = np.equal(train['regionID_1'], train['regionID_2']).astype(np.int32)\n",
      "    train['metroID_same'] = np.equal(train['metroID_1'], train['metroID_2']).astype(np.int32)\n",
      "    train['lat_same'] = np.equal(train['lat_1'], train['lat_2']).astype(np.int32)\n",
      "    train['lon_same'] = np.equal(train['lon_1'], train['lon_2']).astype(np.int32)\n",
      "\n",
      "    # print(train.describe())\n",
      "    print('Create test data time: {} seconds'.format(round(time.time() - start_time, 2)))\n",
      "    return train\n",
      "\n",
      "\n",
      "def read_test_train():\n",
      "    train = prep_train()\n",
      "    test = prep_test()\n",
      "    train.fillna(-1, inplace=True)\n",
      "    test.fillna(-1, inplace=True)\n",
      "    # Get only subset of data\n",
      "    if 1:\n",
      "        len_old = len(train.index)\n",
      "        train = train.sample(frac=0.5)\n",
      "        len_new = len(train.index)\n",
      "        print('Reduce train from {} to {}'.format(len_old, len_new))\n",
      "    features = get_features(train, test)\n",
      "    return train, test, features\n"
     ],
     "language": "python",
     "metadata": {},
     "outputs": [],
     "prompt_number": 3
    },
    {
     "cell_type": "code",
     "collapsed": false,
     "input": [
      "train, test, features = read_test_train()\n",
      "print('Length of train: ', len(train))\n",
      "print('Length of test: ', len(test))\n",
      "print('Features [{}]: {}'.format(len(features), sorted(features)))\n",
      "test_prediction, score = run_default_test(train, test, features, 'isDuplicate')\n",
      "print('Real score = {}'.format(score))\n",
      "create_submission(score, test, test_prediction)"
     ],
     "language": "python",
     "metadata": {},
     "outputs": [
      {
       "output_type": "stream",
       "stream": "stdout",
       "text": [
        "Load ItemPairs_train.csv\n",
        "Load ItemInfo_train.csv"
       ]
      },
      {
       "output_type": "stream",
       "stream": "stdout",
       "text": [
        "\n",
        "Add text features..."
       ]
      },
      {
       "output_type": "stream",
       "stream": "stdout",
       "text": [
        "\n",
        "Merge item 1..."
       ]
      },
      {
       "output_type": "stream",
       "stream": "stdout",
       "text": [
        "\n",
        "Merge item 2..."
       ]
      },
      {
       "output_type": "stream",
       "stream": "stdout",
       "text": [
        "\n",
        "Create same arrays"
       ]
      },
      {
       "output_type": "stream",
       "stream": "stdout",
       "text": [
        "\n",
        "Create train data time: 37.86 seconds"
       ]
      },
      {
       "output_type": "stream",
       "stream": "stdout",
       "text": [
        "\n",
        "Load ItemPairs_test.csv\n",
        "Load ItemInfo_testcsv"
       ]
      },
      {
       "output_type": "stream",
       "stream": "stdout",
       "text": [
        "\n",
        "Add text features..."
       ]
      },
      {
       "output_type": "stream",
       "stream": "stdout",
       "text": [
        "\n",
        "Merge item 1..."
       ]
      },
      {
       "output_type": "stream",
       "stream": "stdout",
       "text": [
        "\n",
        "Merge item 2..."
       ]
      },
      {
       "output_type": "stream",
       "stream": "stdout",
       "text": [
        "\n",
        "Create same arrays"
       ]
      },
      {
       "output_type": "stream",
       "stream": "stdout",
       "text": [
        "\n",
        "Create test data time: 17.35 seconds\n",
        "Reduce train from 2991396 to 1495698"
       ]
      },
      {
       "output_type": "stream",
       "stream": "stdout",
       "text": [
        "\n",
        "('Length of train: ', 1495698)\n",
        "('Length of test: ', 1044196)\n",
        "Features [26]: ['categoryID_1', 'categoryID_2', 'categoryID_same', 'lat_1', 'lat_2', 'lat_same', 'len_attrsJSON', 'len_description', 'len_title', 'locationID_1', 'locationID_2', 'locationID_same', 'lon_1', 'lon_2', 'lon_same', 'metroID_1', 'metroID_2', 'metroID_same', 'parentCategoryID_1', 'parentCategoryID_2', 'price_1', 'price_2', 'price_same', 'regionID_1', 'regionID_2', 'regionID_same']\n",
        "XGBoost params. ETA: 0.1, MAX_DEPTH: 5, SUBSAMPLE: 0.8, COLSAMPLE_BY_TREE: 0.8\n",
        "Will train until eval error hasn't decreased in 20 rounds.\n"
       ]
      },
      {
       "output_type": "stream",
       "stream": "stdout",
       "text": [
        "[0]\ttrain-auc:0.729967\teval-auc:0.729231\n"
       ]
      },
      {
       "output_type": "stream",
       "stream": "stdout",
       "text": [
        "[1]\ttrain-auc:0.733157\teval-auc:0.732563\n"
       ]
      },
      {
       "output_type": "stream",
       "stream": "stdout",
       "text": [
        "[2]\ttrain-auc:0.738573\teval-auc:0.738017\n"
       ]
      },
      {
       "output_type": "stream",
       "stream": "stdout",
       "text": [
        "[3]\ttrain-auc:0.751196\teval-auc:0.750351\n"
       ]
      },
      {
       "output_type": "stream",
       "stream": "stdout",
       "text": [
        "[4]\ttrain-auc:0.749725\teval-auc:0.748830\n"
       ]
      },
      {
       "output_type": "stream",
       "stream": "stdout",
       "text": [
        "[5]\ttrain-auc:0.755385\teval-auc:0.754344\n"
       ]
      },
      {
       "output_type": "stream",
       "stream": "stdout",
       "text": [
        "[6]\ttrain-auc:0.757822\teval-auc:0.756709\n"
       ]
      },
      {
       "output_type": "stream",
       "stream": "stdout",
       "text": [
        "[7]\ttrain-auc:0.759632\teval-auc:0.758601\n"
       ]
      },
      {
       "output_type": "stream",
       "stream": "stdout",
       "text": [
        "[8]\ttrain-auc:0.762624\teval-auc:0.761639\n"
       ]
      },
      {
       "output_type": "stream",
       "stream": "stdout",
       "text": [
        "[9]\ttrain-auc:0.764062\teval-auc:0.763170\n"
       ]
      },
      {
       "output_type": "stream",
       "stream": "stdout",
       "text": [
        "[10]\ttrain-auc:0.765599\teval-auc:0.764568\n"
       ]
      },
      {
       "output_type": "stream",
       "stream": "stdout",
       "text": [
        "[11]\ttrain-auc:0.766659\teval-auc:0.765598\n"
       ]
      },
      {
       "output_type": "stream",
       "stream": "stdout",
       "text": [
        "[12]\ttrain-auc:0.767161\teval-auc:0.766192\n"
       ]
      },
      {
       "output_type": "stream",
       "stream": "stdout",
       "text": [
        "[13]\ttrain-auc:0.767564\teval-auc:0.766538\n"
       ]
      },
      {
       "output_type": "stream",
       "stream": "stdout",
       "text": [
        "[14]\ttrain-auc:0.767938\teval-auc:0.767018\n"
       ]
      },
      {
       "output_type": "stream",
       "stream": "stdout",
       "text": [
        "[15]\ttrain-auc:0.769167\teval-auc:0.768260\n"
       ]
      },
      {
       "output_type": "stream",
       "stream": "stdout",
       "text": [
        "[16]\ttrain-auc:0.769553\teval-auc:0.768613\n"
       ]
      },
      {
       "output_type": "stream",
       "stream": "stdout",
       "text": [
        "[17]\ttrain-auc:0.770066\teval-auc:0.769156\n"
       ]
      },
      {
       "output_type": "stream",
       "stream": "stdout",
       "text": [
        "[18]\ttrain-auc:0.770675\teval-auc:0.769790\n"
       ]
      },
      {
       "output_type": "stream",
       "stream": "stdout",
       "text": [
        "[19]\ttrain-auc:0.771291\teval-auc:0.770392\n"
       ]
      },
      {
       "output_type": "stream",
       "stream": "stdout",
       "text": [
        "[20]\ttrain-auc:0.771847\teval-auc:0.770915\n"
       ]
      },
      {
       "output_type": "stream",
       "stream": "stdout",
       "text": [
        "[21]\ttrain-auc:0.772835\teval-auc:0.772019\n"
       ]
      },
      {
       "output_type": "stream",
       "stream": "stdout",
       "text": [
        "[22]\ttrain-auc:0.773095\teval-auc:0.772291\n"
       ]
      },
      {
       "output_type": "stream",
       "stream": "stdout",
       "text": [
        "[23]\ttrain-auc:0.773250\teval-auc:0.772452\n"
       ]
      },
      {
       "output_type": "stream",
       "stream": "stdout",
       "text": [
        "[24]\ttrain-auc:0.773471\teval-auc:0.772684\n"
       ]
      },
      {
       "output_type": "stream",
       "stream": "stdout",
       "text": [
        "[25]\ttrain-auc:0.774733\teval-auc:0.773955\n"
       ]
      },
      {
       "output_type": "stream",
       "stream": "stdout",
       "text": [
        "[26]\ttrain-auc:0.775034\teval-auc:0.774205\n"
       ]
      },
      {
       "output_type": "stream",
       "stream": "stdout",
       "text": [
        "[27]\ttrain-auc:0.775136\teval-auc:0.774348\n"
       ]
      },
      {
       "output_type": "stream",
       "stream": "stdout",
       "text": [
        "[28]\ttrain-auc:0.775734\teval-auc:0.774912\n"
       ]
      },
      {
       "output_type": "stream",
       "stream": "stdout",
       "text": [
        "[29]\ttrain-auc:0.775947\teval-auc:0.775123\n"
       ]
      },
      {
       "output_type": "stream",
       "stream": "stdout",
       "text": [
        "[30]\ttrain-auc:0.776502\teval-auc:0.775660\n"
       ]
      },
      {
       "output_type": "stream",
       "stream": "stdout",
       "text": [
        "[31]\ttrain-auc:0.776977\teval-auc:0.776155\n"
       ]
      },
      {
       "output_type": "stream",
       "stream": "stdout",
       "text": [
        "[32]\ttrain-auc:0.777202\teval-auc:0.776399\n"
       ]
      },
      {
       "output_type": "stream",
       "stream": "stdout",
       "text": [
        "[33]\ttrain-auc:0.777570\teval-auc:0.776783\n"
       ]
      },
      {
       "output_type": "stream",
       "stream": "stdout",
       "text": [
        "[34]\ttrain-auc:0.778776\teval-auc:0.777966\n"
       ]
      },
      {
       "output_type": "stream",
       "stream": "stdout",
       "text": [
        "[35]\ttrain-auc:0.779903\teval-auc:0.779071\n"
       ]
      },
      {
       "output_type": "stream",
       "stream": "stdout",
       "text": [
        "[36]\ttrain-auc:0.780533\teval-auc:0.779696\n"
       ]
      },
      {
       "output_type": "stream",
       "stream": "stdout",
       "text": [
        "[37]\ttrain-auc:0.780922\teval-auc:0.780049\n"
       ]
      },
      {
       "output_type": "stream",
       "stream": "stdout",
       "text": [
        "[38]\ttrain-auc:0.781360\teval-auc:0.780451\n"
       ]
      },
      {
       "output_type": "stream",
       "stream": "stdout",
       "text": [
        "[39]\ttrain-auc:0.781753\teval-auc:0.780831\n"
       ]
      },
      {
       "output_type": "stream",
       "stream": "stdout",
       "text": [
        "[40]\ttrain-auc:0.783419\teval-auc:0.782453\n"
       ]
      },
      {
       "output_type": "stream",
       "stream": "stdout",
       "text": [
        "[41]\ttrain-auc:0.784036\teval-auc:0.783158\n"
       ]
      },
      {
       "output_type": "stream",
       "stream": "stdout",
       "text": [
        "[42]\ttrain-auc:0.784537\teval-auc:0.783712\n"
       ]
      },
      {
       "output_type": "stream",
       "stream": "stdout",
       "text": [
        "[43]\ttrain-auc:0.784992\teval-auc:0.784200\n"
       ]
      },
      {
       "output_type": "stream",
       "stream": "stdout",
       "text": [
        "[44]\ttrain-auc:0.786284\teval-auc:0.785486\n"
       ]
      },
      {
       "output_type": "stream",
       "stream": "stdout",
       "text": [
        "[45]\ttrain-auc:0.786634\teval-auc:0.785815\n"
       ]
      },
      {
       "output_type": "stream",
       "stream": "stdout",
       "text": [
        "[46]\ttrain-auc:0.787036\teval-auc:0.786199\n"
       ]
      },
      {
       "output_type": "stream",
       "stream": "stdout",
       "text": [
        "[47]\ttrain-auc:0.787456\teval-auc:0.786667\n"
       ]
      },
      {
       "output_type": "stream",
       "stream": "stdout",
       "text": [
        "[48]\ttrain-auc:0.787882\teval-auc:0.787114\n"
       ]
      },
      {
       "output_type": "stream",
       "stream": "stdout",
       "text": [
        "[49]\ttrain-auc:0.788083\teval-auc:0.787291\n"
       ]
      },
      {
       "output_type": "stream",
       "stream": "stdout",
       "text": [
        "[50]\ttrain-auc:0.788390\teval-auc:0.787601\n"
       ]
      },
      {
       "output_type": "stream",
       "stream": "stdout",
       "text": [
        "[51]\ttrain-auc:0.788742\teval-auc:0.787968\n"
       ]
      },
      {
       "output_type": "stream",
       "stream": "stdout",
       "text": [
        "[52]\ttrain-auc:0.788998\teval-auc:0.788237\n"
       ]
      },
      {
       "output_type": "stream",
       "stream": "stdout",
       "text": [
        "[53]\ttrain-auc:0.789252\teval-auc:0.788466\n"
       ]
      },
      {
       "output_type": "stream",
       "stream": "stdout",
       "text": [
        "[54]\ttrain-auc:0.789564\teval-auc:0.788777\n"
       ]
      },
      {
       "output_type": "stream",
       "stream": "stdout",
       "text": [
        "[55]\ttrain-auc:0.789791\teval-auc:0.789000\n"
       ]
      },
      {
       "output_type": "stream",
       "stream": "stdout",
       "text": [
        "[56]\ttrain-auc:0.790504\teval-auc:0.789748\n"
       ]
      },
      {
       "output_type": "stream",
       "stream": "stdout",
       "text": [
        "[57]\ttrain-auc:0.790796\teval-auc:0.790016\n"
       ]
      },
      {
       "output_type": "stream",
       "stream": "stdout",
       "text": [
        "[58]\ttrain-auc:0.791143\teval-auc:0.790350\n"
       ]
      },
      {
       "output_type": "stream",
       "stream": "stdout",
       "text": [
        "[59]\ttrain-auc:0.791356\teval-auc:0.790561\n"
       ]
      },
      {
       "output_type": "stream",
       "stream": "stdout",
       "text": [
        "[60]\ttrain-auc:0.791676\teval-auc:0.790870\n"
       ]
      },
      {
       "output_type": "stream",
       "stream": "stdout",
       "text": [
        "[61]\ttrain-auc:0.791999\teval-auc:0.791193\n"
       ]
      },
      {
       "output_type": "stream",
       "stream": "stdout",
       "text": [
        "[62]\ttrain-auc:0.792191\teval-auc:0.791394\n"
       ]
      },
      {
       "output_type": "stream",
       "stream": "stdout",
       "text": [
        "[63]\ttrain-auc:0.792466\teval-auc:0.791689\n"
       ]
      },
      {
       "output_type": "stream",
       "stream": "stdout",
       "text": [
        "[64]\ttrain-auc:0.792869\teval-auc:0.792090\n"
       ]
      },
      {
       "output_type": "stream",
       "stream": "stdout",
       "text": [
        "[65]\ttrain-auc:0.793005\teval-auc:0.792236\n"
       ]
      },
      {
       "output_type": "stream",
       "stream": "stdout",
       "text": [
        "[66]\ttrain-auc:0.793223\teval-auc:0.792461\n"
       ]
      },
      {
       "output_type": "stream",
       "stream": "stdout",
       "text": [
        "[67]\ttrain-auc:0.793523\teval-auc:0.792740\n"
       ]
      },
      {
       "output_type": "stream",
       "stream": "stdout",
       "text": [
        "[68]\ttrain-auc:0.793735\teval-auc:0.792960\n"
       ]
      },
      {
       "output_type": "stream",
       "stream": "stdout",
       "text": [
        "[69]\ttrain-auc:0.793922\teval-auc:0.793142\n"
       ]
      },
      {
       "output_type": "stream",
       "stream": "stdout",
       "text": [
        "[70]\ttrain-auc:0.794297\teval-auc:0.793516\n"
       ]
      },
      {
       "output_type": "stream",
       "stream": "stdout",
       "text": [
        "[71]\ttrain-auc:0.794533\teval-auc:0.793744\n"
       ]
      },
      {
       "output_type": "stream",
       "stream": "stdout",
       "text": [
        "[72]\ttrain-auc:0.794850\teval-auc:0.794045\n"
       ]
      },
      {
       "output_type": "stream",
       "stream": "stdout",
       "text": [
        "[73]\ttrain-auc:0.795081\teval-auc:0.794255\n"
       ]
      },
      {
       "output_type": "stream",
       "stream": "stdout",
       "text": [
        "[74]\ttrain-auc:0.795318\teval-auc:0.794464\n"
       ]
      },
      {
       "output_type": "stream",
       "stream": "stdout",
       "text": [
        "[75]\ttrain-auc:0.795480\teval-auc:0.794621\n"
       ]
      },
      {
       "output_type": "stream",
       "stream": "stdout",
       "text": [
        "[76]\ttrain-auc:0.795668\teval-auc:0.794788\n"
       ]
      },
      {
       "output_type": "stream",
       "stream": "stdout",
       "text": [
        "[77]\ttrain-auc:0.795835\teval-auc:0.794938\n"
       ]
      },
      {
       "output_type": "stream",
       "stream": "stdout",
       "text": [
        "[78]\ttrain-auc:0.795997\teval-auc:0.795070\n"
       ]
      },
      {
       "output_type": "stream",
       "stream": "stdout",
       "text": [
        "[79]\ttrain-auc:0.796627\teval-auc:0.795667\n"
       ]
      },
      {
       "output_type": "stream",
       "stream": "stdout",
       "text": [
        "[80]\ttrain-auc:0.796896\teval-auc:0.795915\n"
       ]
      },
      {
       "output_type": "stream",
       "stream": "stdout",
       "text": [
        "[81]\ttrain-auc:0.797174\teval-auc:0.796161\n"
       ]
      },
      {
       "output_type": "stream",
       "stream": "stdout",
       "text": [
        "[82]\ttrain-auc:0.797329\teval-auc:0.796316\n"
       ]
      },
      {
       "output_type": "stream",
       "stream": "stdout",
       "text": [
        "[83]\ttrain-auc:0.797468\teval-auc:0.796473\n"
       ]
      },
      {
       "output_type": "stream",
       "stream": "stdout",
       "text": [
        "[84]\ttrain-auc:0.797636\teval-auc:0.796628\n"
       ]
      },
      {
       "output_type": "stream",
       "stream": "stdout",
       "text": [
        "[85]\ttrain-auc:0.797811\teval-auc:0.796810\n"
       ]
      },
      {
       "output_type": "stream",
       "stream": "stdout",
       "text": [
        "[86]\ttrain-auc:0.797923\teval-auc:0.796929\n"
       ]
      },
      {
       "output_type": "stream",
       "stream": "stdout",
       "text": [
        "[87]\ttrain-auc:0.798162\teval-auc:0.797164\n"
       ]
      },
      {
       "output_type": "stream",
       "stream": "stdout",
       "text": [
        "[88]\ttrain-auc:0.798276\teval-auc:0.797282\n"
       ]
      },
      {
       "output_type": "stream",
       "stream": "stdout",
       "text": [
        "[89]\ttrain-auc:0.798559\teval-auc:0.797552\n"
       ]
      },
      {
       "output_type": "stream",
       "stream": "stdout",
       "text": [
        "[90]\ttrain-auc:0.798815\teval-auc:0.797809\n"
       ]
      },
      {
       "output_type": "stream",
       "stream": "stdout",
       "text": [
        "[91]\ttrain-auc:0.798984\teval-auc:0.797963\n"
       ]
      },
      {
       "output_type": "stream",
       "stream": "stdout",
       "text": [
        "[92]\ttrain-auc:0.799072\teval-auc:0.798063\n"
       ]
      },
      {
       "output_type": "stream",
       "stream": "stdout",
       "text": [
        "[93]\ttrain-auc:0.799632\teval-auc:0.798596\n"
       ]
      },
      {
       "output_type": "stream",
       "stream": "stdout",
       "text": [
        "[94]\ttrain-auc:0.799764\teval-auc:0.798719\n"
       ]
      },
      {
       "output_type": "stream",
       "stream": "stdout",
       "text": [
        "[95]\ttrain-auc:0.799915\teval-auc:0.798855\n"
       ]
      },
      {
       "output_type": "stream",
       "stream": "stdout",
       "text": [
        "[96]\ttrain-auc:0.800139\teval-auc:0.799086\n"
       ]
      },
      {
       "output_type": "stream",
       "stream": "stdout",
       "text": [
        "[97]\ttrain-auc:0.800275\teval-auc:0.799197\n"
       ]
      },
      {
       "output_type": "stream",
       "stream": "stdout",
       "text": [
        "[98]\ttrain-auc:0.800476\teval-auc:0.799394\n"
       ]
      },
      {
       "output_type": "stream",
       "stream": "stdout",
       "text": [
        "[99]\ttrain-auc:0.800763\teval-auc:0.799696\n"
       ]
      },
      {
       "output_type": "stream",
       "stream": "stdout",
       "text": [
        "[100]\ttrain-auc:0.800944\teval-auc:0.799866\n"
       ]
      },
      {
       "output_type": "stream",
       "stream": "stdout",
       "text": [
        "[101]\ttrain-auc:0.801024\teval-auc:0.799963\n"
       ]
      },
      {
       "output_type": "stream",
       "stream": "stdout",
       "text": [
        "[102]\ttrain-auc:0.801199\teval-auc:0.800130\n"
       ]
      },
      {
       "output_type": "stream",
       "stream": "stdout",
       "text": [
        "[103]\ttrain-auc:0.801398\teval-auc:0.800326\n"
       ]
      },
      {
       "output_type": "stream",
       "stream": "stdout",
       "text": [
        "[104]\ttrain-auc:0.801609\teval-auc:0.800530\n"
       ]
      },
      {
       "output_type": "stream",
       "stream": "stdout",
       "text": [
        "[105]\ttrain-auc:0.801947\teval-auc:0.800836\n"
       ]
      },
      {
       "output_type": "stream",
       "stream": "stdout",
       "text": [
        "[106]\ttrain-auc:0.802101\teval-auc:0.800973\n"
       ]
      },
      {
       "output_type": "stream",
       "stream": "stdout",
       "text": [
        "[107]\ttrain-auc:0.802222\teval-auc:0.801083\n"
       ]
      },
      {
       "output_type": "stream",
       "stream": "stdout",
       "text": [
        "[108]\ttrain-auc:0.802284\teval-auc:0.801141\n"
       ]
      },
      {
       "output_type": "stream",
       "stream": "stdout",
       "text": [
        "[109]\ttrain-auc:0.802582\teval-auc:0.801401\n"
       ]
      },
      {
       "output_type": "stream",
       "stream": "stdout",
       "text": [
        "[110]\ttrain-auc:0.802699\teval-auc:0.801509\n"
       ]
      },
      {
       "output_type": "stream",
       "stream": "stdout",
       "text": [
        "[111]\ttrain-auc:0.803240\teval-auc:0.802089\n"
       ]
      },
      {
       "output_type": "stream",
       "stream": "stdout",
       "text": [
        "[112]\ttrain-auc:0.803319\teval-auc:0.802166\n"
       ]
      },
      {
       "output_type": "stream",
       "stream": "stdout",
       "text": [
        "[113]\ttrain-auc:0.803438\teval-auc:0.802275\n"
       ]
      },
      {
       "output_type": "stream",
       "stream": "stdout",
       "text": [
        "[114]\ttrain-auc:0.803866\teval-auc:0.802672\n"
       ]
      },
      {
       "output_type": "stream",
       "stream": "stdout",
       "text": [
        "[115]\ttrain-auc:0.803915\teval-auc:0.802717\n"
       ]
      },
      {
       "output_type": "stream",
       "stream": "stdout",
       "text": [
        "[116]\ttrain-auc:0.804275\teval-auc:0.803087\n"
       ]
      },
      {
       "output_type": "stream",
       "stream": "stdout",
       "text": [
        "[117]\ttrain-auc:0.804436\teval-auc:0.803250\n"
       ]
      },
      {
       "output_type": "stream",
       "stream": "stdout",
       "text": [
        "[118]\ttrain-auc:0.804612\teval-auc:0.803419\n"
       ]
      },
      {
       "output_type": "stream",
       "stream": "stdout",
       "text": [
        "[119]\ttrain-auc:0.804777\teval-auc:0.803580\n"
       ]
      },
      {
       "output_type": "stream",
       "stream": "stdout",
       "text": [
        "[120]\ttrain-auc:0.804976\teval-auc:0.803749\n"
       ]
      },
      {
       "output_type": "stream",
       "stream": "stdout",
       "text": [
        "[121]\ttrain-auc:0.805125\teval-auc:0.803888\n"
       ]
      },
      {
       "output_type": "stream",
       "stream": "stdout",
       "text": [
        "[122]\ttrain-auc:0.805243\teval-auc:0.803997\n"
       ]
      },
      {
       "output_type": "stream",
       "stream": "stdout",
       "text": [
        "[123]\ttrain-auc:0.805438\teval-auc:0.804173\n"
       ]
      },
      {
       "output_type": "stream",
       "stream": "stdout",
       "text": [
        "[124]\ttrain-auc:0.805535\teval-auc:0.804255\n"
       ]
      },
      {
       "output_type": "stream",
       "stream": "stdout",
       "text": [
        "[125]\ttrain-auc:0.805704\teval-auc:0.804421\n"
       ]
      },
      {
       "output_type": "stream",
       "stream": "stdout",
       "text": [
        "[126]\ttrain-auc:0.805761\teval-auc:0.804470\n"
       ]
      },
      {
       "output_type": "stream",
       "stream": "stdout",
       "text": [
        "[127]\ttrain-auc:0.805992\teval-auc:0.804694\n"
       ]
      },
      {
       "output_type": "stream",
       "stream": "stdout",
       "text": [
        "[128]\ttrain-auc:0.806126\teval-auc:0.804815\n"
       ]
      },
      {
       "output_type": "stream",
       "stream": "stdout",
       "text": [
        "[129]\ttrain-auc:0.806608\teval-auc:0.805287\n"
       ]
      },
      {
       "output_type": "stream",
       "stream": "stdout",
       "text": [
        "[130]\ttrain-auc:0.806735\teval-auc:0.805419\n"
       ]
      },
      {
       "output_type": "stream",
       "stream": "stdout",
       "text": [
        "[131]\ttrain-auc:0.806832\teval-auc:0.805509\n"
       ]
      },
      {
       "output_type": "stream",
       "stream": "stdout",
       "text": [
        "[132]\ttrain-auc:0.806912\teval-auc:0.805580\n"
       ]
      },
      {
       "output_type": "stream",
       "stream": "stdout",
       "text": [
        "[133]\ttrain-auc:0.807029\teval-auc:0.805685\n"
       ]
      },
      {
       "output_type": "stream",
       "stream": "stdout",
       "text": [
        "[134]\ttrain-auc:0.807116\teval-auc:0.805772\n"
       ]
      },
      {
       "output_type": "stream",
       "stream": "stdout",
       "text": [
        "[135]\ttrain-auc:0.807164\teval-auc:0.805819\n"
       ]
      },
      {
       "output_type": "stream",
       "stream": "stdout",
       "text": [
        "[136]\ttrain-auc:0.807816\teval-auc:0.806502\n"
       ]
      },
      {
       "output_type": "stream",
       "stream": "stdout",
       "text": [
        "[137]\ttrain-auc:0.808155\teval-auc:0.806838\n"
       ]
      },
      {
       "output_type": "stream",
       "stream": "stdout",
       "text": [
        "[138]\ttrain-auc:0.808342\teval-auc:0.807017\n"
       ]
      },
      {
       "output_type": "stream",
       "stream": "stdout",
       "text": [
        "[139]\ttrain-auc:0.809034\teval-auc:0.807663\n"
       ]
      },
      {
       "output_type": "stream",
       "stream": "stdout",
       "text": [
        "[140]\ttrain-auc:0.809335\teval-auc:0.807982\n"
       ]
      },
      {
       "output_type": "stream",
       "stream": "stdout",
       "text": [
        "[141]\ttrain-auc:0.809376\teval-auc:0.808021\n"
       ]
      },
      {
       "output_type": "stream",
       "stream": "stdout",
       "text": [
        "[142]\ttrain-auc:0.809544\teval-auc:0.808183\n"
       ]
      },
      {
       "output_type": "stream",
       "stream": "stdout",
       "text": [
        "[143]\ttrain-auc:0.809766\teval-auc:0.808398\n"
       ]
      },
      {
       "output_type": "stream",
       "stream": "stdout",
       "text": [
        "[144]\ttrain-auc:0.809862\teval-auc:0.808481\n"
       ]
      },
      {
       "output_type": "stream",
       "stream": "stdout",
       "text": [
        "[145]\ttrain-auc:0.810021\teval-auc:0.808622\n"
       ]
      },
      {
       "output_type": "stream",
       "stream": "stdout",
       "text": [
        "[146]\ttrain-auc:0.810068\teval-auc:0.808664\n"
       ]
      },
      {
       "output_type": "stream",
       "stream": "stdout",
       "text": [
        "[147]\ttrain-auc:0.810270\teval-auc:0.808858\n"
       ]
      },
      {
       "output_type": "stream",
       "stream": "stdout",
       "text": [
        "[148]\ttrain-auc:0.810391\teval-auc:0.808983\n"
       ]
      },
      {
       "output_type": "stream",
       "stream": "stdout",
       "text": [
        "[149]\ttrain-auc:0.810514\teval-auc:0.809098\n"
       ]
      },
      {
       "output_type": "stream",
       "stream": "stdout",
       "text": [
        "[150]\ttrain-auc:0.810602\teval-auc:0.809178\n"
       ]
      },
      {
       "output_type": "stream",
       "stream": "stdout",
       "text": [
        "[151]\ttrain-auc:0.810685\teval-auc:0.809251\n"
       ]
      },
      {
       "output_type": "stream",
       "stream": "stdout",
       "text": [
        "[152]\ttrain-auc:0.811305\teval-auc:0.809841\n"
       ]
      },
      {
       "output_type": "stream",
       "stream": "stdout",
       "text": [
        "[153]\ttrain-auc:0.811463\teval-auc:0.809999\n"
       ]
      },
      {
       "output_type": "stream",
       "stream": "stdout",
       "text": [
        "[154]\ttrain-auc:0.811616\teval-auc:0.810128\n"
       ]
      },
      {
       "output_type": "stream",
       "stream": "stdout",
       "text": [
        "[155]\ttrain-auc:0.811785\teval-auc:0.810253\n"
       ]
      },
      {
       "output_type": "stream",
       "stream": "stdout",
       "text": [
        "[156]\ttrain-auc:0.811956\teval-auc:0.810415\n"
       ]
      },
      {
       "output_type": "stream",
       "stream": "stdout",
       "text": [
        "[157]\ttrain-auc:0.812008\teval-auc:0.810450\n"
       ]
      },
      {
       "output_type": "stream",
       "stream": "stdout",
       "text": [
        "[158]\ttrain-auc:0.812143\teval-auc:0.810547\n"
       ]
      },
      {
       "output_type": "stream",
       "stream": "stdout",
       "text": [
        "[159]\ttrain-auc:0.812207\teval-auc:0.810602\n"
       ]
      },
      {
       "output_type": "stream",
       "stream": "stdout",
       "text": [
        "[160]\ttrain-auc:0.812257\teval-auc:0.810647\n"
       ]
      },
      {
       "output_type": "stream",
       "stream": "stdout",
       "text": [
        "[161]\ttrain-auc:0.812310\teval-auc:0.810712\n"
       ]
      },
      {
       "output_type": "stream",
       "stream": "stdout",
       "text": [
        "[162]\ttrain-auc:0.812374\teval-auc:0.810767\n"
       ]
      },
      {
       "output_type": "stream",
       "stream": "stdout",
       "text": [
        "[163]\ttrain-auc:0.812525\teval-auc:0.810931\n"
       ]
      },
      {
       "output_type": "stream",
       "stream": "stdout",
       "text": [
        "[164]\ttrain-auc:0.812652\teval-auc:0.811064\n"
       ]
      },
      {
       "output_type": "stream",
       "stream": "stdout",
       "text": [
        "[165]\ttrain-auc:0.812822\teval-auc:0.811234\n"
       ]
      },
      {
       "output_type": "stream",
       "stream": "stdout",
       "text": [
        "[166]\ttrain-auc:0.812847\teval-auc:0.811263\n"
       ]
      },
      {
       "output_type": "stream",
       "stream": "stdout",
       "text": [
        "[167]\ttrain-auc:0.812909\teval-auc:0.811307\n"
       ]
      },
      {
       "output_type": "stream",
       "stream": "stdout",
       "text": [
        "[168]\ttrain-auc:0.812944\teval-auc:0.811326\n"
       ]
      },
      {
       "output_type": "stream",
       "stream": "stdout",
       "text": [
        "[169]\ttrain-auc:0.813079\teval-auc:0.811460\n"
       ]
      },
      {
       "output_type": "stream",
       "stream": "stdout",
       "text": [
        "[170]\ttrain-auc:0.813133\teval-auc:0.811493\n"
       ]
      },
      {
       "output_type": "stream",
       "stream": "stdout",
       "text": [
        "[171]\ttrain-auc:0.813239\teval-auc:0.811585\n"
       ]
      },
      {
       "output_type": "stream",
       "stream": "stdout",
       "text": [
        "[172]\ttrain-auc:0.813362\teval-auc:0.811705\n"
       ]
      },
      {
       "output_type": "stream",
       "stream": "stdout",
       "text": [
        "[173]\ttrain-auc:0.813550\teval-auc:0.811899\n"
       ]
      },
      {
       "output_type": "stream",
       "stream": "stdout",
       "text": [
        "[174]\ttrain-auc:0.813661\teval-auc:0.812019\n"
       ]
      },
      {
       "output_type": "stream",
       "stream": "stdout",
       "text": [
        "[175]\ttrain-auc:0.813876\teval-auc:0.812244\n"
       ]
      },
      {
       "output_type": "stream",
       "stream": "stdout",
       "text": [
        "[176]\ttrain-auc:0.813948\teval-auc:0.812314\n"
       ]
      },
      {
       "output_type": "stream",
       "stream": "stdout",
       "text": [
        "[177]\ttrain-auc:0.814043\teval-auc:0.812398\n"
       ]
      },
      {
       "output_type": "stream",
       "stream": "stdout",
       "text": [
        "[178]\ttrain-auc:0.814147\teval-auc:0.812488\n"
       ]
      },
      {
       "output_type": "stream",
       "stream": "stdout",
       "text": [
        "[179]\ttrain-auc:0.814754\teval-auc:0.813067\n"
       ]
      },
      {
       "output_type": "stream",
       "stream": "stdout",
       "text": [
        "[180]\ttrain-auc:0.814832\teval-auc:0.813148\n"
       ]
      },
      {
       "output_type": "stream",
       "stream": "stdout",
       "text": [
        "[181]\ttrain-auc:0.815027\teval-auc:0.813357\n"
       ]
      },
      {
       "output_type": "stream",
       "stream": "stdout",
       "text": [
        "[182]\ttrain-auc:0.815129\teval-auc:0.813472\n"
       ]
      },
      {
       "output_type": "stream",
       "stream": "stdout",
       "text": [
        "[183]\ttrain-auc:0.815222\teval-auc:0.813556\n"
       ]
      },
      {
       "output_type": "stream",
       "stream": "stdout",
       "text": [
        "[184]\ttrain-auc:0.815349\teval-auc:0.813686\n"
       ]
      },
      {
       "output_type": "stream",
       "stream": "stdout",
       "text": [
        "[185]\ttrain-auc:0.815564\teval-auc:0.813895\n"
       ]
      },
      {
       "output_type": "stream",
       "stream": "stdout",
       "text": [
        "[186]\ttrain-auc:0.815768\teval-auc:0.814086\n"
       ]
      },
      {
       "output_type": "stream",
       "stream": "stdout",
       "text": [
        "[187]\ttrain-auc:0.815918\teval-auc:0.814222\n"
       ]
      },
      {
       "output_type": "stream",
       "stream": "stdout",
       "text": [
        "[188]\ttrain-auc:0.815928\teval-auc:0.814230\n"
       ]
      },
      {
       "output_type": "stream",
       "stream": "stdout",
       "text": [
        "[189]\ttrain-auc:0.816315\teval-auc:0.814624\n"
       ]
      },
      {
       "output_type": "stream",
       "stream": "stdout",
       "text": [
        "[190]\ttrain-auc:0.816415\teval-auc:0.814714\n"
       ]
      },
      {
       "output_type": "stream",
       "stream": "stdout",
       "text": [
        "[191]\ttrain-auc:0.816429\teval-auc:0.814725\n"
       ]
      },
      {
       "output_type": "stream",
       "stream": "stdout",
       "text": [
        "[192]\ttrain-auc:0.816612\teval-auc:0.814901\n"
       ]
      },
      {
       "output_type": "stream",
       "stream": "stdout",
       "text": [
        "[193]\ttrain-auc:0.816724\teval-auc:0.814992\n"
       ]
      },
      {
       "output_type": "stream",
       "stream": "stdout",
       "text": [
        "[194]\ttrain-auc:0.816792\teval-auc:0.815053\n"
       ]
      },
      {
       "output_type": "stream",
       "stream": "stdout",
       "text": [
        "[195]\ttrain-auc:0.816968\teval-auc:0.815217\n"
       ]
      },
      {
       "output_type": "stream",
       "stream": "stdout",
       "text": [
        "[196]\ttrain-auc:0.817136\teval-auc:0.815377\n"
       ]
      },
      {
       "output_type": "stream",
       "stream": "stdout",
       "text": [
        "[197]\ttrain-auc:0.817231\teval-auc:0.815455\n"
       ]
      },
      {
       "output_type": "stream",
       "stream": "stdout",
       "text": [
        "[198]\ttrain-auc:0.817261\teval-auc:0.815477\n"
       ]
      },
      {
       "output_type": "stream",
       "stream": "stdout",
       "text": [
        "[199]\ttrain-auc:0.817409\teval-auc:0.815616\n"
       ]
      },
      {
       "output_type": "stream",
       "stream": "stdout",
       "text": [
        "[200]\ttrain-auc:0.817512\teval-auc:0.815703\n"
       ]
      },
      {
       "output_type": "stream",
       "stream": "stdout",
       "text": [
        "[201]\ttrain-auc:0.817639\teval-auc:0.815831\n"
       ]
      },
      {
       "output_type": "stream",
       "stream": "stdout",
       "text": [
        "[202]\ttrain-auc:0.817746\teval-auc:0.815922\n"
       ]
      },
      {
       "output_type": "stream",
       "stream": "stdout",
       "text": [
        "[203]\ttrain-auc:0.817838\teval-auc:0.815994\n"
       ]
      },
      {
       "output_type": "stream",
       "stream": "stdout",
       "text": [
        "[204]\ttrain-auc:0.817902\teval-auc:0.816040\n"
       ]
      },
      {
       "output_type": "stream",
       "stream": "stdout",
       "text": [
        "[205]\ttrain-auc:0.818012\teval-auc:0.816151\n"
       ]
      },
      {
       "output_type": "stream",
       "stream": "stdout",
       "text": [
        "[206]\ttrain-auc:0.818048\teval-auc:0.816190\n"
       ]
      },
      {
       "output_type": "stream",
       "stream": "stdout",
       "text": [
        "[207]\ttrain-auc:0.818132\teval-auc:0.816275\n"
       ]
      },
      {
       "output_type": "stream",
       "stream": "stdout",
       "text": [
        "[208]\ttrain-auc:0.818154\teval-auc:0.816295\n"
       ]
      },
      {
       "output_type": "stream",
       "stream": "stdout",
       "text": [
        "[209]\ttrain-auc:0.818200\teval-auc:0.816338\n"
       ]
      },
      {
       "output_type": "stream",
       "stream": "stdout",
       "text": [
        "[210]\ttrain-auc:0.818217\teval-auc:0.816343\n"
       ]
      },
      {
       "output_type": "stream",
       "stream": "stdout",
       "text": [
        "[211]\ttrain-auc:0.818308\teval-auc:0.816429\n"
       ]
      },
      {
       "output_type": "stream",
       "stream": "stdout",
       "text": [
        "[212]\ttrain-auc:0.818351\teval-auc:0.816468\n"
       ]
      },
      {
       "output_type": "stream",
       "stream": "stdout",
       "text": [
        "[213]\ttrain-auc:0.818581\teval-auc:0.816684\n"
       ]
      },
      {
       "output_type": "stream",
       "stream": "stdout",
       "text": [
        "[214]\ttrain-auc:0.818612\teval-auc:0.816709\n"
       ]
      },
      {
       "output_type": "stream",
       "stream": "stdout",
       "text": [
        "[215]\ttrain-auc:0.818728\teval-auc:0.816829\n"
       ]
      },
      {
       "output_type": "stream",
       "stream": "stdout",
       "text": [
        "[216]\ttrain-auc:0.818817\teval-auc:0.816905\n"
       ]
      },
      {
       "output_type": "stream",
       "stream": "stdout",
       "text": [
        "[217]\ttrain-auc:0.818848\teval-auc:0.816936\n"
       ]
      },
      {
       "output_type": "stream",
       "stream": "stdout",
       "text": [
        "[218]\ttrain-auc:0.818923\teval-auc:0.817023\n"
       ]
      },
      {
       "output_type": "stream",
       "stream": "stdout",
       "text": [
        "[219]\ttrain-auc:0.818983\teval-auc:0.817068\n"
       ]
      },
      {
       "output_type": "stream",
       "stream": "stdout",
       "text": [
        "[220]\ttrain-auc:0.819153\teval-auc:0.817229\n"
       ]
      },
      {
       "output_type": "stream",
       "stream": "stdout",
       "text": [
        "[221]\ttrain-auc:0.819221\teval-auc:0.817292\n"
       ]
      },
      {
       "output_type": "stream",
       "stream": "stdout",
       "text": [
        "[222]\ttrain-auc:0.819283\teval-auc:0.817350\n"
       ]
      },
      {
       "output_type": "stream",
       "stream": "stdout",
       "text": [
        "[223]\ttrain-auc:0.819329\teval-auc:0.817399\n"
       ]
      },
      {
       "output_type": "stream",
       "stream": "stdout",
       "text": [
        "[224]\ttrain-auc:0.819468\teval-auc:0.817534\n"
       ]
      },
      {
       "output_type": "stream",
       "stream": "stdout",
       "text": [
        "[225]\ttrain-auc:0.819594\teval-auc:0.817674\n"
       ]
      },
      {
       "output_type": "stream",
       "stream": "stdout",
       "text": [
        "[226]\ttrain-auc:0.819635\teval-auc:0.817710\n"
       ]
      },
      {
       "output_type": "stream",
       "stream": "stdout",
       "text": [
        "[227]\ttrain-auc:0.819914\teval-auc:0.818003\n"
       ]
      },
      {
       "output_type": "stream",
       "stream": "stdout",
       "text": [
        "[228]\ttrain-auc:0.820154\teval-auc:0.818235\n"
       ]
      },
      {
       "output_type": "stream",
       "stream": "stdout",
       "text": [
        "[229]\ttrain-auc:0.820214\teval-auc:0.818287\n"
       ]
      },
      {
       "output_type": "stream",
       "stream": "stdout",
       "text": [
        "[230]\ttrain-auc:0.820293\teval-auc:0.818355\n"
       ]
      },
      {
       "output_type": "stream",
       "stream": "stdout",
       "text": [
        "[231]\ttrain-auc:0.820394\teval-auc:0.818450\n"
       ]
      },
      {
       "output_type": "stream",
       "stream": "stdout",
       "text": [
        "[232]\ttrain-auc:0.820404\teval-auc:0.818454\n"
       ]
      },
      {
       "output_type": "stream",
       "stream": "stdout",
       "text": [
        "[233]\ttrain-auc:0.820586\teval-auc:0.818638\n"
       ]
      },
      {
       "output_type": "stream",
       "stream": "stdout",
       "text": [
        "[234]\ttrain-auc:0.820661\teval-auc:0.818707\n"
       ]
      },
      {
       "output_type": "stream",
       "stream": "stdout",
       "text": [
        "[235]\ttrain-auc:0.820894\teval-auc:0.818945\n"
       ]
      },
      {
       "output_type": "stream",
       "stream": "stdout",
       "text": [
        "[236]\ttrain-auc:0.821016\teval-auc:0.819054\n"
       ]
      },
      {
       "output_type": "stream",
       "stream": "stdout",
       "text": [
        "[237]\ttrain-auc:0.821166\teval-auc:0.819193\n"
       ]
      },
      {
       "output_type": "stream",
       "stream": "stdout",
       "text": [
        "[238]\ttrain-auc:0.821273\teval-auc:0.819304\n"
       ]
      },
      {
       "output_type": "stream",
       "stream": "stdout",
       "text": [
        "[239]\ttrain-auc:0.821350\teval-auc:0.819381\n"
       ]
      },
      {
       "output_type": "stream",
       "stream": "stdout",
       "text": [
        "[240]\ttrain-auc:0.821353\teval-auc:0.819381\n"
       ]
      },
      {
       "output_type": "stream",
       "stream": "stdout",
       "text": [
        "[241]\ttrain-auc:0.821385\teval-auc:0.819411\n"
       ]
      },
      {
       "output_type": "stream",
       "stream": "stdout",
       "text": [
        "[242]\ttrain-auc:0.821454\teval-auc:0.819474\n"
       ]
      },
      {
       "output_type": "stream",
       "stream": "stdout",
       "text": [
        "[243]\ttrain-auc:0.821969\teval-auc:0.819995\n"
       ]
      },
      {
       "output_type": "stream",
       "stream": "stdout",
       "text": [
        "[244]\ttrain-auc:0.822080\teval-auc:0.820080\n"
       ]
      },
      {
       "output_type": "stream",
       "stream": "stdout",
       "text": [
        "[245]\ttrain-auc:0.822167\teval-auc:0.820173\n"
       ]
      },
      {
       "output_type": "stream",
       "stream": "stdout",
       "text": [
        "[246]\ttrain-auc:0.822264\teval-auc:0.820276\n"
       ]
      },
      {
       "output_type": "stream",
       "stream": "stdout",
       "text": [
        "[247]\ttrain-auc:0.822727\teval-auc:0.820745\n"
       ]
      },
      {
       "output_type": "stream",
       "stream": "stdout",
       "text": [
        "[248]\ttrain-auc:0.822763\teval-auc:0.820771\n"
       ]
      },
      {
       "output_type": "stream",
       "stream": "stdout",
       "text": [
        "[249]\ttrain-auc:0.822831\teval-auc:0.820836\n"
       ]
      },
      {
       "output_type": "stream",
       "stream": "stdout",
       "text": [
        "[250]\ttrain-auc:0.822931\teval-auc:0.820935\n"
       ]
      },
      {
       "output_type": "stream",
       "stream": "stdout",
       "text": [
        "[251]\ttrain-auc:0.823106\teval-auc:0.821114\n"
       ]
      },
      {
       "output_type": "stream",
       "stream": "stdout",
       "text": [
        "[252]\ttrain-auc:0.823225\teval-auc:0.821222\n"
       ]
      },
      {
       "output_type": "stream",
       "stream": "stdout",
       "text": [
        "[253]\ttrain-auc:0.823696\teval-auc:0.821714\n"
       ]
      },
      {
       "output_type": "stream",
       "stream": "stdout",
       "text": [
        "[254]\ttrain-auc:0.823848\teval-auc:0.821841\n"
       ]
      },
      {
       "output_type": "stream",
       "stream": "stdout",
       "text": [
        "[255]\ttrain-auc:0.823900\teval-auc:0.821886\n"
       ]
      },
      {
       "output_type": "stream",
       "stream": "stdout",
       "text": [
        "[256]\ttrain-auc:0.823952\teval-auc:0.821925\n"
       ]
      },
      {
       "output_type": "stream",
       "stream": "stdout",
       "text": [
        "[257]\ttrain-auc:0.824001\teval-auc:0.821983\n"
       ]
      },
      {
       "output_type": "stream",
       "stream": "stdout",
       "text": [
        "[258]\ttrain-auc:0.824040\teval-auc:0.822023\n"
       ]
      },
      {
       "output_type": "stream",
       "stream": "stdout",
       "text": [
        "[259]\ttrain-auc:0.824334\teval-auc:0.822306\n"
       ]
      },
      {
       "output_type": "stream",
       "stream": "stdout",
       "text": [
        "Validating...\n",
        "Check error value: 0.822306"
       ]
      },
      {
       "output_type": "stream",
       "stream": "stdout",
       "text": [
        "\n",
        "('Importance array: ', [('categoryID_2', 1125), ('price_1', 1030), ('price_2', 957), ('parentCategoryID_1', 637), ('lat_2', 530), ('lon_2', 467), ('lon_1', 465), ('lat_1', 417), ('locationID_2', 344), ('locationID_1', 305), ('categoryID_1', 239), ('price_same', 172), ('metroID_1', 167), ('metroID_2', 154), ('parentCategoryID_2', 120), ('regionID_same', 102), ('locationID_same', 100), ('lat_same', 86), ('regionID_1', 76), ('len_description', 65), ('regionID_2', 58), ('len_attrsJSON', 49), ('len_title', 44), ('metroID_same', 36), ('lon_same', 30)])\n",
        "Predict test set...\n",
        "Training time: 2.81 minutes"
       ]
      },
      {
       "output_type": "stream",
       "stream": "stdout",
       "text": [
        "\n",
        "Real score = 0.822305937668\n",
        "('Writing submission: ', 'submission_0.822305937668_2016-05-15-14-14.csv')\n"
       ]
      }
     ],
     "prompt_number": 4
    },
    {
     "cell_type": "code",
     "collapsed": false,
     "input": [],
     "language": "python",
     "metadata": {},
     "outputs": []
    }
   ],
   "metadata": {}
  }
 ]
}