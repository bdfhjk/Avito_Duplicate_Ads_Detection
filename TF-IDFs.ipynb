{
 "cells": [
  {
   "cell_type": "markdown",
   "metadata": {},
   "source": [
    "Poniższe komórki powinny być odpalone zawsze"
   ]
  },
  {
   "cell_type": "code",
   "execution_count": 1,
   "metadata": {
    "collapsed": true
   },
   "outputs": [],
   "source": [
    "import cPickle as pickle\n",
    "import numpy as np\n",
    "import pandas as pd\n",
    "\n",
    "from nltk.corpus import stopwords\n",
    "from sklearn.feature_extraction.text import TfidfVectorizer"
   ]
  },
  {
   "cell_type": "code",
   "execution_count": 2,
   "metadata": {
    "collapsed": false
   },
   "outputs": [],
   "source": [
    "\n",
    "\n",
    "typesinput = {\n",
    "    'itemID': np.dtype(int),\n",
    "    'categoryID': np.dtype(int),\n",
    "    'title': np.dtype(str),\n",
    "    'description': np.dtype(str),\n",
    "    'images_array': np.dtype(str),\n",
    "    'attrsJSON': np.dtype(str),\n",
    "    'price': np.dtype(float),\n",
    "    'locationID': np.dtype(int),\n",
    "    'metroID': np.dtype(float),\n",
    "    'lat': np.dtype(float),\n",
    "    'lon': np.dtype(float),\n",
    "}\n"
   ]
  },
  {
   "cell_type": "markdown",
   "metadata": {},
   "source": [
    "# DESCRIPTION TF-IDFS\n",
    "\n",
    "Generacja TF-IDF dla opisów"
   ]
  },
  {
   "cell_type": "code",
   "execution_count": 3,
   "metadata": {
    "collapsed": true
   },
   "outputs": [],
   "source": [
    "\n",
    "items = pd.read_csv(\"input/ItemInfo_train.csv\", dtype=typesinput, usecols=['description'])\n",
    "itemstest = pd.read_csv(\"input/ItemInfo_test.csv\", dtype=typesinput, usecols=['description'])\n",
    "items.fillna(\"\", inplace=True)\n",
    "itemstest.fillna(\"\", inplace=True)"
   ]
  },
  {
   "cell_type": "code",
   "execution_count": 4,
   "metadata": {
    "collapsed": true
   },
   "outputs": [],
   "source": [
    "\n",
    "# Sprawdz tf-idf bez stopwordsow\n",
    "tfidf = TfidfVectorizer(stop_words = stopwords.words('russian')).fit(pd.concat([items.description, itemstest.description]))"
   ]
  },
  {
   "cell_type": "code",
   "execution_count": null,
   "metadata": {
    "collapsed": true
   },
   "outputs": [],
   "source": [
    "# transf = tfidf.transform(items.description)\n",
    "pickle.dump(transf, open(\"tfidfs/description_stopwords_train.data\",\"w\"))"
   ]
  },
  {
   "cell_type": "code",
   "execution_count": null,
   "metadata": {
    "collapsed": true
   },
   "outputs": [],
   "source": [
    "transf = tfidf.transform(itemstest.description)\n",
    "pickle.dump(transf, open(\"tfidfs/description_stopwords_test.data\",\"w\"))"
   ]
  },
  {
   "cell_type": "markdown",
   "metadata": {},
   "source": [
    "# TITLE TF-IDFS\n",
    "\n",
    "Generacja TF-IDF dla tytułów"
   ]
  },
  {
   "cell_type": "code",
   "execution_count": null,
   "metadata": {
    "collapsed": true
   },
   "outputs": [],
   "source": [
    "\n",
    "items = pd.read_csv(\"input/ItemInfo_train.csv\", dtype=typesinput, usecols=['title'])\n",
    "itemstest = pd.read_csv(\"input/ItemInfo_test.csv\", dtype=typesinput, usecols=['title'])\n",
    "items.fillna(\"\", inplace=True)\n",
    "itemstest.fillna(\"\", inplace=True)"
   ]
  },
  {
   "cell_type": "code",
   "execution_count": null,
   "metadata": {
    "collapsed": false
   },
   "outputs": [],
   "source": [
    "\n",
    "tfidf = TfidfVectorizer(stop_words = stopwords.words('russian')).fit(pd.concat([items.title, itemstest.title]))\n",
    "transf = tfidf.transform(items.title)\n",
    "pickle.dump(transf, open(\"tfidfs/title_stopwords_train.data\",\"w\"))\n",
    "transf = tfidf.transform(itemstest.title)\n",
    "pickle.dump(transf, open(\"tfidfs/title_stopwords_test.data\",\"w\"))"
   ]
  },
  {
   "cell_type": "code",
   "execution_count": null,
   "metadata": {
    "collapsed": true
   },
   "outputs": [],
   "source": [
    "\n",
    "tfidf = TfidfVectorizer().fit(pd.concat([items.title, itemstest.title]))\n",
    "transf = tfidf.transform(items.title)\n",
    "pickle.dump(transf, open(\"tfidfs/title_train.data\",\"w\"))\n",
    "transf = tfidf.transform(itemstest.title)\n",
    "pickle.dump(transf, open(\"tfidfs/title_test.data\",\"w\"))"
   ]
  },
  {
   "cell_type": "markdown",
   "metadata": {
    "collapsed": true
   },
   "source": [
    "# COSINE \n",
    "\n",
    "Liczenie podobieństwa cosinusowego"
   ]
  },
  {
   "cell_type": "code",
   "execution_count": 4,
   "metadata": {
    "collapsed": true
   },
   "outputs": [],
   "source": [
    "types1 = {\n",
    "        'itemID_1': np.dtype(int),\n",
    "        'itemID_2': np.dtype(int),\n",
    "        'isDuplicate': np.dtype(int),\n",
    "        'generationMethod': np.dtype(int),\n",
    "}\n"
   ]
  },
  {
   "cell_type": "code",
   "execution_count": 3,
   "metadata": {
    "collapsed": false
   },
   "outputs": [],
   "source": [
    "\n",
    "pairs = pd.read_csv(\"input/ItemPairs_test.csv\", dtype=types1)\n",
    "tfidfs_desc = pickle.load(open(\"tfidfs/description_stopwords_test.data\",\"r\"))\n",
    "itemstest = pd.read_csv(\"input/ItemInfo_test.csv\", dtype=typesinput, usecols=['itemID'])"
   ]
  },
  {
   "cell_type": "code",
   "execution_count": 9,
   "metadata": {
    "collapsed": false
   },
   "outputs": [],
   "source": [
    "index_ = pd.Index(itemstest.itemID)\n",
    "pairs.itemID_1 = pairs.apply(lambda x: index_.get_loc(x['itemID_1']), axis=1)\n",
    "pairs.itemID_2 = pairs.apply(lambda x: index_.get_loc(x['itemID_2']), axis=1)"
   ]
  },
  {
   "cell_type": "code",
   "execution_count": 6,
   "metadata": {
    "collapsed": false
   },
   "outputs": [],
   "source": [
    "from sklearn.metrics.pairwise import cosine_similarity as cosine\n",
    "\n",
    "def cosine_sim(itemid1, itemid2):\n",
    "    return cosine(tfidfs_desc[itemid1], tfidfs_desc[itemid2])\n",
    "\n",
    "#vecfunc = np.vectorize(cosine_sim)\n",
    "#res = vecfunc(pairs['itemID_1'], pairs['itemID_2'])\n",
    "    "
   ]
  },
  {
   "cell_type": "code",
   "execution_count": 50,
   "metadata": {
    "collapsed": false
   },
   "outputs": [],
   "source": [
    "test_simil = pd.Series(res)"
   ]
  },
  {
   "cell_type": "code",
   "execution_count": 52,
   "metadata": {
    "collapsed": false
   },
   "outputs": [],
   "source": [
    "test_simil.to_csv(\"similarities/test_description_stopwords_cosine.csv\")"
   ]
  },
  {
   "cell_type": "code",
   "execution_count": 5,
   "metadata": {
    "collapsed": false
   },
   "outputs": [],
   "source": [
    "pairs = pd.read_csv(\"input/ItemPairs_train.csv\", dtype=types1)\n",
    "tfidfs_desc = pickle.load(open(\"tfidfs/description_stopwords_train.data\",\"r\"))\n",
    "itemstest = pd.read_csv(\"input/ItemInfo_train.csv\", dtype=typesinput, usecols=['itemID'])"
   ]
  },
  {
   "cell_type": "code",
   "execution_count": 7,
   "metadata": {
    "collapsed": true
   },
   "outputs": [],
   "source": [
    "index_ = pd.Index(itemstest.itemID)\n",
    "pairs.itemID_1 = pairs.apply(lambda x: index_.get_loc(x['itemID_1']), axis=1)\n",
    "pairs.itemID_2 = pairs.apply(lambda x: index_.get_loc(x['itemID_2']), axis=1)\n",
    "\n",
    "vecfunc = np.vectorize(cosine_sim)\n",
    "res = vecfunc(pairs['itemID_1'], pairs['itemID_2'])"
   ]
  },
  {
   "cell_type": "code",
   "execution_count": 9,
   "metadata": {
    "collapsed": false
   },
   "outputs": [],
   "source": [
    "train_simil = pd.Series(res)"
   ]
  },
  {
   "cell_type": "code",
   "execution_count": 10,
   "metadata": {
    "collapsed": true
   },
   "outputs": [],
   "source": [
    "train_simil.to_csv(\"similarities/train_description_stopwords_cosine.csv\")"
   ]
  },
  {
   "cell_type": "code",
   "execution_count": null,
   "metadata": {
    "collapsed": true
   },
   "outputs": [],
   "source": []
  }
 ],
 "metadata": {
  "kernelspec": {
   "display_name": "Python 2",
   "language": "python",
   "name": "python2"
  },
  "language_info": {
   "codemirror_mode": {
    "name": "ipython",
    "version": 2
   },
   "file_extension": ".py",
   "mimetype": "text/x-python",
   "name": "python",
   "nbconvert_exporter": "python",
   "pygments_lexer": "ipython2",
   "version": "2.7.6"
  }
 },
 "nbformat": 4,
 "nbformat_minor": 0
}
