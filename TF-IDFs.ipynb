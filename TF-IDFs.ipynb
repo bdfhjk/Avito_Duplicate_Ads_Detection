{
 "cells": [
  {
   "cell_type": "code",
   "execution_count": 1,
   "metadata": {
    "collapsed": true
   },
   "outputs": [],
   "source": [
    "import cPickle as pickle\n",
    "import numpy as np\n",
    "import pandas as pd\n",
    "\n",
    "from nltk.corpus import stopwords\n",
    "from sklearn.feature_extraction.text import TfidfVectorizer"
   ]
  },
  {
   "cell_type": "code",
   "execution_count": 2,
   "metadata": {
    "collapsed": false
   },
   "outputs": [],
   "source": [
    "\n",
    "\n",
    "typesinput = {\n",
    "    'itemID': np.dtype(int),\n",
    "    'categoryID': np.dtype(int),\n",
    "    'title': np.dtype(str),\n",
    "    'description': np.dtype(str),\n",
    "    'images_array': np.dtype(str),\n",
    "    'attrsJSON': np.dtype(str),\n",
    "    'price': np.dtype(float),\n",
    "    'locationID': np.dtype(int),\n",
    "    'metroID': np.dtype(float),\n",
    "    'lat': np.dtype(float),\n",
    "    'lon': np.dtype(float),\n",
    "}\n"
   ]
  },
  {
   "cell_type": "markdown",
   "metadata": {},
   "source": [
    "# DESCRIPTION TF-IDFS"
   ]
  },
  {
   "cell_type": "code",
   "execution_count": null,
   "metadata": {
    "collapsed": true
   },
   "outputs": [],
   "source": [
    "\n",
    "items = pd.read_csv(\"input/ItemInfo_train.csv\", dtype=typesinput, usecols=['description'])\n",
    "itemstest = pd.read_csv(\"input/ItemInfo_test.csv\", dtype=typesinput, usecols=['description'])\n",
    "items.fillna(\"\", inplace=True)\n",
    "itemstest.fillna(\"\", inplace=True)"
   ]
  },
  {
   "cell_type": "code",
   "execution_count": 10,
   "metadata": {
    "collapsed": true
   },
   "outputs": [],
   "source": [
    "\n",
    "# Sprawdz tf-idf bez stopwordsow\n",
    "tfidf = TfidfVectorizer(stop_words = stopwords.words('russian')).fit(pd.concat([items.description, itemstest.description]))"
   ]
  },
  {
   "cell_type": "code",
   "execution_count": 19,
   "metadata": {
    "collapsed": true
   },
   "outputs": [],
   "source": [
    "transf = tfidf.transform(items.description)\n",
    "pickle.dump(transf, open(\"tfidfs/description_stopwords_train.data\",\"w\"))"
   ]
  },
  {
   "cell_type": "code",
   "execution_count": 20,
   "metadata": {
    "collapsed": true
   },
   "outputs": [],
   "source": [
    "transf = tfidf.transform(itemstest.description)\n",
    "pickle.dump(transf, open(\"tfidfs/description_stopwords_test.data\",\"w\"))"
   ]
  },
  {
   "cell_type": "markdown",
   "metadata": {},
   "source": [
    "# TITLE TF-IDFS"
   ]
  },
  {
   "cell_type": "code",
   "execution_count": 3,
   "metadata": {
    "collapsed": true
   },
   "outputs": [],
   "source": [
    "\n",
    "items = pd.read_csv(\"input/ItemInfo_train.csv\", dtype=typesinput, usecols=['title'])\n",
    "itemstest = pd.read_csv(\"input/ItemInfo_test.csv\", dtype=typesinput, usecols=['title'])\n",
    "items.fillna(\"\", inplace=True)\n",
    "itemstest.fillna(\"\", inplace=True)"
   ]
  },
  {
   "cell_type": "code",
   "execution_count": 5,
   "metadata": {
    "collapsed": false
   },
   "outputs": [],
   "source": [
    "\n",
    "tfidf = TfidfVectorizer(stop_words = stopwords.words('russian')).fit(pd.concat([items.title, itemstest.title]))\n",
    "transf = tfidf.transform(items.title)\n",
    "pickle.dump(transf, open(\"tfidfs/title_stopwords_train.data\",\"w\"))\n",
    "transf = tfidf.transform(itemstest.title)\n",
    "pickle.dump(transf, open(\"tfidfs/title_stopwords_test.data\",\"w\"))"
   ]
  },
  {
   "cell_type": "code",
   "execution_count": 6,
   "metadata": {
    "collapsed": true
   },
   "outputs": [],
   "source": [
    "\n",
    "tfidf = TfidfVectorizer().fit(pd.concat([items.title, itemstest.title]))\n",
    "transf = tfidf.transform(items.title)\n",
    "pickle.dump(transf, open(\"tfidfs/title_train.data\",\"w\"))\n",
    "transf = tfidf.transform(itemstest.title)\n",
    "pickle.dump(transf, open(\"tfidfs/title_test.data\",\"w\"))"
   ]
  },
  {
   "cell_type": "code",
   "execution_count": null,
   "metadata": {
    "collapsed": true
   },
   "outputs": [],
   "source": []
  }
 ],
 "metadata": {
  "kernelspec": {
   "display_name": "Python 2",
   "language": "python",
   "name": "python2"
  },
  "language_info": {
   "codemirror_mode": {
    "name": "ipython",
    "version": 2
   },
   "file_extension": ".py",
   "mimetype": "text/x-python",
   "name": "python",
   "nbconvert_exporter": "python",
   "pygments_lexer": "ipython2",
   "version": "2.7.6"
  }
 },
 "nbformat": 4,
 "nbformat_minor": 0
}
